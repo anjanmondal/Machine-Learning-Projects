{
 "cells": [
  {
   "cell_type": "markdown",
   "id": "036a5ba7",
   "metadata": {},
   "source": [
    "# Data Mining and Machine Learning\n",
    "## Assignment 2\n",
    "\n",
    "Name - Anjan Mondal\n",
    "\n",
    "Roll No. - MDS202208\n"
   ]
  },
  {
   "cell_type": "markdown",
   "id": "b607823a",
   "metadata": {},
   "source": [
    "# Task 1\n",
    "\n",
    "Use decision tree regression to predict the revenue for a movie in the dataset Hindi Movies from 2005-2017.\n"
   ]
  },
  {
   "cell_type": "code",
   "execution_count": 1,
   "id": "d6ae4261",
   "metadata": {},
   "outputs": [],
   "source": [
    "import pandas as pd\n",
    "from math import sqrt \n",
    "from sklearn.tree import DecisionTreeRegressor\n",
    "from sklearn.tree import DecisionTreeClassifier\n",
    "from sklearn.ensemble import BaggingClassifier\n",
    "from sklearn.metrics import accuracy_score, confusion_matrix,mean_squared_error, mean_absolute_percentage_error\n",
    "from sklearn.model_selection import train_test_split, GridSearchCV\n",
    "import matplotlib.pyplot as plt\n",
    "import seaborn as sns\n",
    "import time\n",
    "import sys"
   ]
  },
  {
   "cell_type": "code",
   "execution_count": 105,
   "id": "8483252c",
   "metadata": {},
   "outputs": [
    {
     "data": {
      "text/html": [
       "<div>\n",
       "<style scoped>\n",
       "    .dataframe tbody tr th:only-of-type {\n",
       "        vertical-align: middle;\n",
       "    }\n",
       "\n",
       "    .dataframe tbody tr th {\n",
       "        vertical-align: top;\n",
       "    }\n",
       "\n",
       "    .dataframe thead th {\n",
       "        text-align: right;\n",
       "    }\n",
       "</style>\n",
       "<table border=\"1\" class=\"dataframe\">\n",
       "  <thead>\n",
       "    <tr style=\"text-align: right;\">\n",
       "      <th></th>\n",
       "      <th>Number of Screens</th>\n",
       "      <th>Revenue(INR)</th>\n",
       "      <th>Budget(INR)</th>\n",
       "      <th>Release Period_Holiday</th>\n",
       "      <th>Release Period_Normal</th>\n",
       "      <th>Whether Remake_No</th>\n",
       "      <th>Whether Remake_Yes</th>\n",
       "      <th>Whether Franchise_No</th>\n",
       "      <th>Whether Franchise_Yes</th>\n",
       "      <th>Genre_action</th>\n",
       "      <th>...</th>\n",
       "      <th>Music Director_Vivek Philip</th>\n",
       "      <th>Music Director_Vivek Prakash</th>\n",
       "      <th>Music Director_Vivek Priyadarshan</th>\n",
       "      <th>Music Director_Wayne Sharpe</th>\n",
       "      <th>Music Director_Yasin Darbar</th>\n",
       "      <th>Music Director_Yuvan Shankar Raja</th>\n",
       "      <th>Music Director_Zakir Hussain</th>\n",
       "      <th>Music Director_Zubeen Garg</th>\n",
       "      <th>Music Director_Zubin Balaporia</th>\n",
       "      <th>Music Director_Zubunnisa Bangash</th>\n",
       "    </tr>\n",
       "    <tr>\n",
       "      <th>Movie Name</th>\n",
       "      <th></th>\n",
       "      <th></th>\n",
       "      <th></th>\n",
       "      <th></th>\n",
       "      <th></th>\n",
       "      <th></th>\n",
       "      <th></th>\n",
       "      <th></th>\n",
       "      <th></th>\n",
       "      <th></th>\n",
       "      <th></th>\n",
       "      <th></th>\n",
       "      <th></th>\n",
       "      <th></th>\n",
       "      <th></th>\n",
       "      <th></th>\n",
       "      <th></th>\n",
       "      <th></th>\n",
       "      <th></th>\n",
       "      <th></th>\n",
       "      <th></th>\n",
       "    </tr>\n",
       "  </thead>\n",
       "  <tbody>\n",
       "    <tr>\n",
       "      <th>Golden Boys</th>\n",
       "      <td>5</td>\n",
       "      <td>5000000</td>\n",
       "      <td>85000</td>\n",
       "      <td>0</td>\n",
       "      <td>1</td>\n",
       "      <td>1</td>\n",
       "      <td>0</td>\n",
       "      <td>1</td>\n",
       "      <td>0</td>\n",
       "      <td>0</td>\n",
       "      <td>...</td>\n",
       "      <td>0</td>\n",
       "      <td>0</td>\n",
       "      <td>0</td>\n",
       "      <td>0</td>\n",
       "      <td>0</td>\n",
       "      <td>0</td>\n",
       "      <td>0</td>\n",
       "      <td>0</td>\n",
       "      <td>0</td>\n",
       "      <td>0</td>\n",
       "    </tr>\n",
       "    <tr>\n",
       "      <th>Kaccha Limboo</th>\n",
       "      <td>75</td>\n",
       "      <td>15000000</td>\n",
       "      <td>825000</td>\n",
       "      <td>1</td>\n",
       "      <td>0</td>\n",
       "      <td>1</td>\n",
       "      <td>0</td>\n",
       "      <td>1</td>\n",
       "      <td>0</td>\n",
       "      <td>0</td>\n",
       "      <td>...</td>\n",
       "      <td>0</td>\n",
       "      <td>0</td>\n",
       "      <td>0</td>\n",
       "      <td>0</td>\n",
       "      <td>0</td>\n",
       "      <td>0</td>\n",
       "      <td>0</td>\n",
       "      <td>0</td>\n",
       "      <td>0</td>\n",
       "      <td>0</td>\n",
       "    </tr>\n",
       "    <tr>\n",
       "      <th>Not A Love Story</th>\n",
       "      <td>525</td>\n",
       "      <td>75000000</td>\n",
       "      <td>56700000</td>\n",
       "      <td>1</td>\n",
       "      <td>0</td>\n",
       "      <td>1</td>\n",
       "      <td>0</td>\n",
       "      <td>1</td>\n",
       "      <td>0</td>\n",
       "      <td>0</td>\n",
       "      <td>...</td>\n",
       "      <td>0</td>\n",
       "      <td>0</td>\n",
       "      <td>0</td>\n",
       "      <td>0</td>\n",
       "      <td>0</td>\n",
       "      <td>0</td>\n",
       "      <td>0</td>\n",
       "      <td>0</td>\n",
       "      <td>0</td>\n",
       "      <td>0</td>\n",
       "    </tr>\n",
       "    <tr>\n",
       "      <th>Qaidi Band</th>\n",
       "      <td>800</td>\n",
       "      <td>210000000</td>\n",
       "      <td>4500000</td>\n",
       "      <td>1</td>\n",
       "      <td>0</td>\n",
       "      <td>1</td>\n",
       "      <td>0</td>\n",
       "      <td>1</td>\n",
       "      <td>0</td>\n",
       "      <td>0</td>\n",
       "      <td>...</td>\n",
       "      <td>0</td>\n",
       "      <td>0</td>\n",
       "      <td>0</td>\n",
       "      <td>0</td>\n",
       "      <td>0</td>\n",
       "      <td>0</td>\n",
       "      <td>0</td>\n",
       "      <td>0</td>\n",
       "      <td>0</td>\n",
       "      <td>0</td>\n",
       "    </tr>\n",
       "    <tr>\n",
       "      <th>Chaatwali</th>\n",
       "      <td>1</td>\n",
       "      <td>1000000</td>\n",
       "      <td>1075000</td>\n",
       "      <td>1</td>\n",
       "      <td>0</td>\n",
       "      <td>1</td>\n",
       "      <td>0</td>\n",
       "      <td>1</td>\n",
       "      <td>0</td>\n",
       "      <td>0</td>\n",
       "      <td>...</td>\n",
       "      <td>0</td>\n",
       "      <td>0</td>\n",
       "      <td>0</td>\n",
       "      <td>0</td>\n",
       "      <td>0</td>\n",
       "      <td>0</td>\n",
       "      <td>0</td>\n",
       "      <td>0</td>\n",
       "      <td>0</td>\n",
       "      <td>0</td>\n",
       "    </tr>\n",
       "  </tbody>\n",
       "</table>\n",
       "<p>5 rows × 2471 columns</p>\n",
       "</div>"
      ],
      "text/plain": [
       "                  Number of Screens  Revenue(INR)  Budget(INR)  \\\n",
       "Movie Name                                                       \n",
       "Golden Boys                       5       5000000        85000   \n",
       "Kaccha Limboo                    75      15000000       825000   \n",
       "Not A Love Story                525      75000000     56700000   \n",
       "Qaidi Band                      800     210000000      4500000   \n",
       "Chaatwali                         1       1000000      1075000   \n",
       "\n",
       "                  Release Period_Holiday  Release Period_Normal  \\\n",
       "Movie Name                                                        \n",
       "Golden Boys                            0                      1   \n",
       "Kaccha Limboo                          1                      0   \n",
       "Not A Love Story                       1                      0   \n",
       "Qaidi Band                             1                      0   \n",
       "Chaatwali                              1                      0   \n",
       "\n",
       "                  Whether Remake_No  Whether Remake_Yes  Whether Franchise_No  \\\n",
       "Movie Name                                                                      \n",
       "Golden Boys                       1                   0                     1   \n",
       "Kaccha Limboo                     1                   0                     1   \n",
       "Not A Love Story                  1                   0                     1   \n",
       "Qaidi Band                        1                   0                     1   \n",
       "Chaatwali                         1                   0                     1   \n",
       "\n",
       "                  Whether Franchise_Yes  Genre_action  ...  \\\n",
       "Movie Name                                             ...   \n",
       "Golden Boys                           0             0  ...   \n",
       "Kaccha Limboo                         0             0  ...   \n",
       "Not A Love Story                      0             0  ...   \n",
       "Qaidi Band                            0             0  ...   \n",
       "Chaatwali                             0             0  ...   \n",
       "\n",
       "                  Music Director_Vivek Philip  Music Director_Vivek Prakash  \\\n",
       "Movie Name                                                                    \n",
       "Golden Boys                                 0                             0   \n",
       "Kaccha Limboo                               0                             0   \n",
       "Not A Love Story                            0                             0   \n",
       "Qaidi Band                                  0                             0   \n",
       "Chaatwali                                   0                             0   \n",
       "\n",
       "                  Music Director_Vivek Priyadarshan  \\\n",
       "Movie Name                                            \n",
       "Golden Boys                                       0   \n",
       "Kaccha Limboo                                     0   \n",
       "Not A Love Story                                  0   \n",
       "Qaidi Band                                        0   \n",
       "Chaatwali                                         0   \n",
       "\n",
       "                  Music Director_Wayne Sharpe  Music Director_Yasin Darbar  \\\n",
       "Movie Name                                                                   \n",
       "Golden Boys                                 0                            0   \n",
       "Kaccha Limboo                               0                            0   \n",
       "Not A Love Story                            0                            0   \n",
       "Qaidi Band                                  0                            0   \n",
       "Chaatwali                                   0                            0   \n",
       "\n",
       "                  Music Director_Yuvan Shankar Raja  \\\n",
       "Movie Name                                            \n",
       "Golden Boys                                       0   \n",
       "Kaccha Limboo                                     0   \n",
       "Not A Love Story                                  0   \n",
       "Qaidi Band                                        0   \n",
       "Chaatwali                                         0   \n",
       "\n",
       "                  Music Director_Zakir Hussain  Music Director_Zubeen Garg  \\\n",
       "Movie Name                                                                   \n",
       "Golden Boys                                  0                           0   \n",
       "Kaccha Limboo                                0                           0   \n",
       "Not A Love Story                             0                           0   \n",
       "Qaidi Band                                   0                           0   \n",
       "Chaatwali                                    0                           0   \n",
       "\n",
       "                  Music Director_Zubin Balaporia  \\\n",
       "Movie Name                                         \n",
       "Golden Boys                                    0   \n",
       "Kaccha Limboo                                  0   \n",
       "Not A Love Story                               0   \n",
       "Qaidi Band                                     0   \n",
       "Chaatwali                                      0   \n",
       "\n",
       "                  Music Director_Zubunnisa Bangash  \n",
       "Movie Name                                          \n",
       "Golden Boys                                      0  \n",
       "Kaccha Limboo                                    0  \n",
       "Not A Love Story                                 0  \n",
       "Qaidi Band                                       0  \n",
       "Chaatwali                                        0  \n",
       "\n",
       "[5 rows x 2471 columns]"
      ]
     },
     "execution_count": 105,
     "metadata": {},
     "output_type": "execute_result"
    }
   ],
   "source": [
    "movies=pd.read_csv(\"movies/Data for repository.csv\",index_col=0) #Movie Name col set as index since they are unique to each row\n",
    "# Convert categorical variables into numerical using one-hot encoding\n",
    "\n",
    "\n",
    "movies= pd.get_dummies(movies, columns=[ 'Release Period', 'Whether Remake', \n",
    "                                                 'Whether Franchise', 'Genre', 'New Actor', 'New Director',\n",
    "                                                 'New Music Director', 'Lead Star', 'Director', 'Music Director'])\n",
    "\n",
    "movies.head()"
   ]
  },
  {
   "cell_type": "code",
   "execution_count": 106,
   "id": "628bdd08",
   "metadata": {},
   "outputs": [],
   "source": [
    "# Split the data into features and target\n",
    "X = movies.drop(columns='Revenue(INR)')\n",
    "y = movies['Revenue(INR)']\n",
    "y=y.reset_index(drop=True)\n",
    "\n",
    "# Split the data into train and test sets\n",
    "X_train, X_test, y_train, y_test = train_test_split(X, y, test_size=0.2, random_state=40)"
   ]
  },
  {
   "cell_type": "markdown",
   "id": "7d65f223",
   "metadata": {},
   "source": [
    "## Decision Tree Regression Model"
   ]
  },
  {
   "cell_type": "code",
   "execution_count": 84,
   "id": "ea0babd8",
   "metadata": {},
   "outputs": [
    {
     "name": "stdout",
     "output_type": "stream",
     "text": [
      "Training time: 97.30 seconds\n",
      "Best parameters found by GridSearchCV:  {'max_depth': 4, 'min_samples_leaf': 4, 'min_samples_split': 2}\n"
     ]
    }
   ],
   "source": [
    "\n",
    "# Define the parameter grid for GridSearchCV\n",
    "param_grid = {'max_depth': [2,3, 4, 5, 6, 7, 8],\n",
    "              'min_samples_split': [2, 3, 4, 5, 6],\n",
    "              'min_samples_leaf': [1, 2, 3, 4, 5,6]}\n",
    "\n",
    "movie_tree_reg = GridSearchCV(DecisionTreeRegressor(), param_grid)\n",
    "\n",
    "\n",
    "start_time = time.time()\n",
    "reg = movie_tree_reg.fit(X_train, y_train)\n",
    "print(f'Training time: {(time.time()-start_time):.{2}f} seconds')\n",
    "\n",
    "print(\"Best parameters found by GridSearchCV: \", movie_tree_reg.best_params_)\n",
    "\n",
    "# Predict on the test set\n",
    "y_pred = movie_tree_reg.predict(X_test)"
   ]
  },
  {
   "cell_type": "markdown",
   "id": "26640e1e",
   "metadata": {},
   "source": [
    "## Model Performance"
   ]
  },
  {
   "cell_type": "code",
   "execution_count": 85,
   "id": "81e54acb",
   "metadata": {},
   "outputs": [
    {
     "name": "stdout",
     "output_type": "stream",
     "text": [
      "Score: 0.7578381384992636\n",
      "Mean Squared Error:  1.4937154784984432e+16\n",
      "Root Mean Squared Error:  122217653.32792327\n",
      "Mean Absolute Percentage Error: 0.8429686799377126\n"
     ]
    }
   ],
   "source": [
    "print(\"Score:\",movie_tree_reg.score(X_test,y_test))\n",
    "print(\"Mean Squared Error: \", mean_squared_error(y_test, y_pred))\n",
    "print(\"Root Mean Squared Error: \", sqrt(mean_squared_error(y_test, y_pred)))\n",
    "print(\"Mean Absolute Percentage Error:\",mean_absolute_percentage_error(y_test,y_pred))\n"
   ]
  },
  {
   "cell_type": "markdown",
   "id": "5f63dc65",
   "metadata": {},
   "source": [
    "# Task 2\n",
    "\n",
    "\n",
    "Build the following ensemble classifiers for the movie and bank datasets and compare the performance with the classifiers built in Assignment 1.\n",
    "\n",
    "* Bagging with decision trees.\n",
    "\n",
    "* Boosting with decision stumps.\n"
   ]
  },
  {
   "cell_type": "code",
   "execution_count": 9,
   "id": "69a6efd6",
   "metadata": {},
   "outputs": [],
   "source": [
    "from sklearn.ensemble import AdaBoostClassifier"
   ]
  },
  {
   "cell_type": "markdown",
   "id": "50efe570",
   "metadata": {},
   "source": [
    "## Bank Dataset"
   ]
  },
  {
   "cell_type": "code",
   "execution_count": 22,
   "id": "727d8f47",
   "metadata": {},
   "outputs": [
    {
     "name": "stdout",
     "output_type": "stream",
     "text": [
      "32950\n"
     ]
    },
    {
     "data": {
      "text/html": [
       "<div>\n",
       "<style scoped>\n",
       "    .dataframe tbody tr th:only-of-type {\n",
       "        vertical-align: middle;\n",
       "    }\n",
       "\n",
       "    .dataframe tbody tr th {\n",
       "        vertical-align: top;\n",
       "    }\n",
       "\n",
       "    .dataframe thead th {\n",
       "        text-align: right;\n",
       "    }\n",
       "</style>\n",
       "<table border=\"1\" class=\"dataframe\">\n",
       "  <thead>\n",
       "    <tr style=\"text-align: right;\">\n",
       "      <th></th>\n",
       "      <th>age</th>\n",
       "      <th>duration</th>\n",
       "      <th>campaign</th>\n",
       "      <th>pdays</th>\n",
       "      <th>previous</th>\n",
       "      <th>emp.var.rate</th>\n",
       "      <th>cons.price.idx</th>\n",
       "      <th>cons.conf.idx</th>\n",
       "      <th>euribor3m</th>\n",
       "      <th>nr.employed</th>\n",
       "      <th>...</th>\n",
       "      <th>month_oct</th>\n",
       "      <th>month_sep</th>\n",
       "      <th>day_of_week_fri</th>\n",
       "      <th>day_of_week_mon</th>\n",
       "      <th>day_of_week_thu</th>\n",
       "      <th>day_of_week_tue</th>\n",
       "      <th>day_of_week_wed</th>\n",
       "      <th>poutcome_failure</th>\n",
       "      <th>poutcome_nonexistent</th>\n",
       "      <th>poutcome_success</th>\n",
       "    </tr>\n",
       "  </thead>\n",
       "  <tbody>\n",
       "    <tr>\n",
       "      <th>17194</th>\n",
       "      <td>48</td>\n",
       "      <td>214</td>\n",
       "      <td>2</td>\n",
       "      <td>999</td>\n",
       "      <td>0</td>\n",
       "      <td>1.4</td>\n",
       "      <td>93.918</td>\n",
       "      <td>-42.7</td>\n",
       "      <td>4.962</td>\n",
       "      <td>5228.1</td>\n",
       "      <td>...</td>\n",
       "      <td>0</td>\n",
       "      <td>0</td>\n",
       "      <td>1</td>\n",
       "      <td>0</td>\n",
       "      <td>0</td>\n",
       "      <td>0</td>\n",
       "      <td>0</td>\n",
       "      <td>0</td>\n",
       "      <td>1</td>\n",
       "      <td>0</td>\n",
       "    </tr>\n",
       "    <tr>\n",
       "      <th>3239</th>\n",
       "      <td>46</td>\n",
       "      <td>68</td>\n",
       "      <td>5</td>\n",
       "      <td>999</td>\n",
       "      <td>0</td>\n",
       "      <td>1.1</td>\n",
       "      <td>93.994</td>\n",
       "      <td>-36.4</td>\n",
       "      <td>4.860</td>\n",
       "      <td>5191.0</td>\n",
       "      <td>...</td>\n",
       "      <td>0</td>\n",
       "      <td>0</td>\n",
       "      <td>0</td>\n",
       "      <td>0</td>\n",
       "      <td>1</td>\n",
       "      <td>0</td>\n",
       "      <td>0</td>\n",
       "      <td>0</td>\n",
       "      <td>1</td>\n",
       "      <td>0</td>\n",
       "    </tr>\n",
       "    <tr>\n",
       "      <th>30931</th>\n",
       "      <td>48</td>\n",
       "      <td>88</td>\n",
       "      <td>2</td>\n",
       "      <td>999</td>\n",
       "      <td>0</td>\n",
       "      <td>-1.8</td>\n",
       "      <td>92.893</td>\n",
       "      <td>-46.2</td>\n",
       "      <td>1.344</td>\n",
       "      <td>5099.1</td>\n",
       "      <td>...</td>\n",
       "      <td>0</td>\n",
       "      <td>0</td>\n",
       "      <td>0</td>\n",
       "      <td>0</td>\n",
       "      <td>0</td>\n",
       "      <td>1</td>\n",
       "      <td>0</td>\n",
       "      <td>0</td>\n",
       "      <td>1</td>\n",
       "      <td>0</td>\n",
       "    </tr>\n",
       "    <tr>\n",
       "      <th>25274</th>\n",
       "      <td>34</td>\n",
       "      <td>218</td>\n",
       "      <td>2</td>\n",
       "      <td>4</td>\n",
       "      <td>1</td>\n",
       "      <td>-0.1</td>\n",
       "      <td>93.200</td>\n",
       "      <td>-42.0</td>\n",
       "      <td>4.153</td>\n",
       "      <td>5195.8</td>\n",
       "      <td>...</td>\n",
       "      <td>0</td>\n",
       "      <td>0</td>\n",
       "      <td>0</td>\n",
       "      <td>0</td>\n",
       "      <td>0</td>\n",
       "      <td>1</td>\n",
       "      <td>0</td>\n",
       "      <td>0</td>\n",
       "      <td>0</td>\n",
       "      <td>1</td>\n",
       "    </tr>\n",
       "    <tr>\n",
       "      <th>38400</th>\n",
       "      <td>59</td>\n",
       "      <td>518</td>\n",
       "      <td>2</td>\n",
       "      <td>6</td>\n",
       "      <td>1</td>\n",
       "      <td>-3.4</td>\n",
       "      <td>92.431</td>\n",
       "      <td>-26.9</td>\n",
       "      <td>0.737</td>\n",
       "      <td>5017.5</td>\n",
       "      <td>...</td>\n",
       "      <td>1</td>\n",
       "      <td>0</td>\n",
       "      <td>0</td>\n",
       "      <td>0</td>\n",
       "      <td>0</td>\n",
       "      <td>1</td>\n",
       "      <td>0</td>\n",
       "      <td>0</td>\n",
       "      <td>0</td>\n",
       "      <td>1</td>\n",
       "    </tr>\n",
       "  </tbody>\n",
       "</table>\n",
       "<p>5 rows × 63 columns</p>\n",
       "</div>"
      ],
      "text/plain": [
       "       age  duration  campaign  pdays  previous  emp.var.rate  cons.price.idx  \\\n",
       "17194   48       214         2    999         0           1.4          93.918   \n",
       "3239    46        68         5    999         0           1.1          93.994   \n",
       "30931   48        88         2    999         0          -1.8          92.893   \n",
       "25274   34       218         2      4         1          -0.1          93.200   \n",
       "38400   59       518         2      6         1          -3.4          92.431   \n",
       "\n",
       "       cons.conf.idx  euribor3m  nr.employed  ...  month_oct  month_sep  \\\n",
       "17194          -42.7      4.962       5228.1  ...          0          0   \n",
       "3239           -36.4      4.860       5191.0  ...          0          0   \n",
       "30931          -46.2      1.344       5099.1  ...          0          0   \n",
       "25274          -42.0      4.153       5195.8  ...          0          0   \n",
       "38400          -26.9      0.737       5017.5  ...          1          0   \n",
       "\n",
       "       day_of_week_fri  day_of_week_mon  day_of_week_thu  day_of_week_tue  \\\n",
       "17194                1                0                0                0   \n",
       "3239                 0                0                1                0   \n",
       "30931                0                0                0                1   \n",
       "25274                0                0                0                1   \n",
       "38400                0                0                0                1   \n",
       "\n",
       "       day_of_week_wed  poutcome_failure  poutcome_nonexistent  \\\n",
       "17194                0                 0                     1   \n",
       "3239                 0                 0                     1   \n",
       "30931                0                 0                     1   \n",
       "25274                0                 0                     0   \n",
       "38400                0                 0                     0   \n",
       "\n",
       "       poutcome_success  \n",
       "17194                 0  \n",
       "3239                  0  \n",
       "30931                 0  \n",
       "25274                 1  \n",
       "38400                 1  \n",
       "\n",
       "[5 rows x 63 columns]"
      ]
     },
     "execution_count": 22,
     "metadata": {},
     "output_type": "execute_result"
    }
   ],
   "source": [
    "bank_data=pd.read_csv(\"bank-data/bank-additional-full.csv\", sep=';')\n",
    "bank_data=pd.get_dummies(bank_data, columns=['job','marital','education','default',\n",
    "                                               'housing','loan','contact','month','day_of_week','poutcome'])\n",
    "X = bank_data.drop(['y'], axis=1)\n",
    "y = bank_data['y']\n",
    "\n",
    "X_train, X_test, y_train, y_test = train_test_split(X, y, test_size=0.2, random_state=40,stratify=y)\n",
    "print(len(X_train))\n",
    "X_train.head()"
   ]
  },
  {
   "cell_type": "markdown",
   "id": "c8c5db31",
   "metadata": {},
   "source": [
    "## Bagging with Decision Trees"
   ]
  },
  {
   "cell_type": "code",
   "execution_count": 23,
   "id": "15d30683",
   "metadata": {},
   "outputs": [
    {
     "name": "stdout",
     "output_type": "stream",
     "text": [
      "Training time: 21.30 seconds\n"
     ]
    }
   ],
   "source": [
    "bag_clf=BaggingClassifier(DecisionTreeClassifier(),\n",
    "                          n_estimators = 200, max_features = 0.5)\n",
    "\n",
    "start_time = time.time()\n",
    "bag_clf.fit(X_train,y_train)\n",
    "print(f'Training time: {(time.time()-start_time):.{2}f} seconds')\n",
    "\n",
    "y_pred=bag_clf.predict(X_test)\n"
   ]
  },
  {
   "cell_type": "markdown",
   "id": "2ee7a1bb",
   "metadata": {},
   "source": [
    "## Model Performance"
   ]
  },
  {
   "cell_type": "code",
   "execution_count": 24,
   "id": "69de5873",
   "metadata": {},
   "outputs": [
    {
     "data": {
      "image/png": "[encoded data removed]",
      "text/plain": [
       "<Figure size 200x200 with 1 Axes>"
      ]
     },
     "metadata": {},
     "output_type": "display_data"
    }
   ],
   "source": [
    "plt.figure(figsize=(2,2))\n",
    "sns.heatmap(confusion_matrix(y_test, y_pred), annot=True, fmt='d', cmap='Reds', cbar=False)\n",
    "plt.title('Confusion Matrix')\n",
    "plt.xlabel('True label')\n",
    "plt.ylabel('Predicted label')\n",
    "plt.savefig('bank-data/bag_conf_mat.png')\n",
    "plt.show()"
   ]
  },
  {
   "cell_type": "code",
   "execution_count": 90,
   "id": "fcd33d27",
   "metadata": {},
   "outputs": [
    {
     "name": "stdout",
     "output_type": "stream",
     "text": [
      "Accuracy:  0.9107793153678078\n",
      "              precision    recall  f1-score   support\n",
      "\n",
      "          no      0.921     0.984     0.951      7310\n",
      "         yes      0.726     0.334     0.458       928\n",
      "\n",
      "    accuracy                          0.911      8238\n",
      "   macro avg      0.823     0.659     0.704      8238\n",
      "weighted avg      0.899     0.911     0.896      8238\n",
      "\n"
     ]
    }
   ],
   "source": [
    "# Evaluate the model performance\n",
    "from sklearn import metrics\n",
    "\n",
    "print(\"Accuracy: \", accuracy_score(y_test, y_pred))\n",
    "\n",
    "print(metrics.classification_report(y_test, y_pred, digits=3))"
   ]
  },
  {
   "cell_type": "markdown",
   "id": "7740291f",
   "metadata": {},
   "source": [
    "## Boosting with Decision Stumps"
   ]
  },
  {
   "cell_type": "code",
   "execution_count": 109,
   "id": "e7aab225",
   "metadata": {},
   "outputs": [
    {
     "name": "stdout",
     "output_type": "stream",
     "text": [
      "Training time: 6.28 seconds\n"
     ]
    }
   ],
   "source": [
    "ada_clf=AdaBoostClassifier(\n",
    "DecisionTreeClassifier(max_depth=1),n_estimators=100,learning_rate=0.2)\n",
    "start_time = time.time()\n",
    "ada_clf.fit(X_train,y_train)\n",
    "print(f'Training time: {(time.time()-start_time):.{2}f} seconds')\n",
    "y_pred=ada_clf.predict(X_test)"
   ]
  },
  {
   "cell_type": "markdown",
   "id": "68d569a0",
   "metadata": {},
   "source": [
    "## Model Performance"
   ]
  },
  {
   "cell_type": "code",
   "execution_count": 110,
   "id": "63270602",
   "metadata": {},
   "outputs": [
    {
     "data": {
      "image/png": "[encoded data removed]",
      "text/plain": [
       "<Figure size 200x200 with 1 Axes>"
      ]
     },
     "metadata": {},
     "output_type": "display_data"
    }
   ],
   "source": [
    "plt.figure(figsize=(2,2))\n",
    "sns.heatmap(confusion_matrix(y_test, y_pred), annot=True, fmt='d', cmap='Reds', cbar=False)\n",
    "plt.title('Confusion Matrix')\n",
    "plt.xlabel('True label')\n",
    "plt.ylabel('Predicted label')\n",
    "plt.savefig('bank-data/boost_conf_mat.png')\n",
    "plt.show()"
   ]
  },
  {
   "cell_type": "code",
   "execution_count": 111,
   "id": "530ebdb9",
   "metadata": {},
   "outputs": [
    {
     "name": "stdout",
     "output_type": "stream",
     "text": [
      "Accuracy:  0.9087157076960427\n",
      "              precision    recall  f1-score   support\n",
      "\n",
      "          no      0.923     0.978     0.950      7310\n",
      "         yes      0.679     0.360     0.470       928\n",
      "\n",
      "    accuracy                          0.909      8238\n",
      "   macro avg      0.801     0.669     0.710      8238\n",
      "weighted avg      0.896     0.909     0.896      8238\n",
      "\n"
     ]
    }
   ],
   "source": [
    "# Evaluate the model performance\n",
    "from sklearn import metrics\n",
    "\n",
    "print(\"Accuracy: \", accuracy_score(y_test, y_pred))\n",
    "\n",
    "print(metrics.classification_report(y_test, y_pred, digits=3))"
   ]
  },
  {
   "cell_type": "markdown",
   "id": "8e691ced",
   "metadata": {},
   "source": [
    "## Comparision with Decision Tree Classifier and Naive Bayes"
   ]
  },
  {
   "cell_type": "markdown",
   "id": "5e3daa94",
   "metadata": {},
   "source": [
    "### Decision Tree Classifier\n",
    "\n",
    "\n",
    "|        | precision   | recall | f1-score  | \n",
    "| -------  | ----------- |--------|-----------|\n",
    "| no       |    0.939     |0.965    | 0.952 | \n",
    "| yes      | 0.646     |0.510     |0.570      |\n",
    "|accuracy  |             |        |0.913     |\n",
    "\n",
    "\n",
    "\n",
    "\n"
   ]
  },
  {
   "cell_type": "markdown",
   "id": "72a96aa9",
   "metadata": {},
   "source": [
    "### Naive Bayes Classifier\n",
    "\n",
    "\n",
    "|          | precision   | recall | f1-score | \n",
    "| -------  | ----------- |--------|----------|\n",
    "| no       |     0.920    | 0.958  |   0.939 |\n",
    "| yes      | 0.514     |0.348   |  0.415       |\n",
    "|accuracy  |             |        |0.890      |"
   ]
  },
  {
   "cell_type": "markdown",
   "id": "fef2b19e",
   "metadata": {},
   "source": [
    "### Bagging Classifier\n",
    "\n",
    "|        | precision   | recall | f1-score  | \n",
    "| -------  | ----------- |--------|-----------|\n",
    "| no       |   0.921     |0.984     |0.951       |\n",
    "| yes      | 0.726     |0.334     |0.458  |\n",
    "|accuracy  |             |        |0.911      | "
   ]
  },
  {
   "cell_type": "markdown",
   "id": "c2851862",
   "metadata": {},
   "source": [
    "### Boosting Classifier\n",
    "|        | precision   | recall | f1-score  |\n",
    "| -------  | ----------- |--------|---------|\n",
    "| no       |    0.923    | 0.978   |  0.950  |   \n",
    "| yes      | 0.679     |0.360     |0.470    |  \n",
    "|accuracy  |             |        | 0.909 |"
   ]
  },
  {
   "cell_type": "code",
   "execution_count": 122,
   "id": "951eb748",
   "metadata": {},
   "outputs": [
    {
     "data": {
      "text/plain": [
       "41188"
      ]
     },
     "execution_count": 122,
     "metadata": {},
     "output_type": "execute_result"
    }
   ],
   "source": [
    "len(bank_data)"
   ]
  },
  {
   "cell_type": "markdown",
   "id": "783a9acc",
   "metadata": {},
   "source": [
    "## Movies Dataset"
   ]
  },
  {
   "cell_type": "code",
   "execution_count": 4,
   "id": "2c01fe1e",
   "metadata": {},
   "outputs": [],
   "source": [
    "movies=pd.read_csv(\"movies/Data for repository.csv\",index_col=0) #Movie Name col set as index since they are unique to each row\n",
    "# Convert categorical variables into numerical using one-hot encoding\n",
    "\n",
    "\n",
    "#Add target variable (hit or flop)\n",
    "movies['y']=movies['Revenue(INR)']> movies['Budget(INR)']\n",
    "movies['y']=movies['y'].map({True: 'hit', False: 'flop'})\n",
    "\n",
    "movies=movies.drop(columns='Revenue(INR)')\n",
    "\n",
    "# Convert categorical variables into numerical using one-hot encoding\n",
    "movies = pd.get_dummies(movies, columns=['Release Period', 'Whether Remake', \n",
    "                                                 'Whether Franchise', 'Genre', 'New Actor', 'New Director',\n",
    "                                                 'New Music Director', 'Lead Star', 'Director', 'Music Director'])\n",
    "# Split the data into features and target\n",
    "X = movies.drop(['y'], axis=1)\n",
    "y = movies['y']\n",
    "\n",
    "\n",
    "# Split the data into train and test sets\n",
    "X_train, X_test, y_train, y_test = train_test_split(X, y, test_size=0.2, random_state=40,stratify=y)"
   ]
  },
  {
   "cell_type": "markdown",
   "id": "cc6a5b2e",
   "metadata": {},
   "source": [
    "## Decision Tree Classifier"
   ]
  },
  {
   "cell_type": "code",
   "execution_count": 21,
   "id": "51ac1eb9",
   "metadata": {},
   "outputs": [
    {
     "name": "stdout",
     "output_type": "stream",
     "text": [
      "Training time: 105.55 seconds\n",
      "Best parameters found by GridSearchCV:  {'max_depth': 6, 'min_samples_leaf': 3, 'min_samples_split': 2}\n"
     ]
    }
   ],
   "source": [
    "param_grid = {'max_depth': [3, 4, 5, 6, 7, 8],\n",
    "              'min_samples_split': [2, 3, 4, 5, 6],\n",
    "              'min_samples_leaf': [1, 2, 3, 4, 5,6]}\n",
    "\n",
    "movie_tree_clf = GridSearchCV(DecisionTreeClassifier(), param_grid)\n",
    "\n",
    "start_time = time.time()\n",
    "clf = movie_tree_clf.fit(X_train, y_train)\n",
    "\n",
    "print(f'Training time: {(time.time()-start_time):.{2}f} seconds')\n",
    "\n",
    "\n",
    "\n",
    "# Print the best parameters found by GridSearchCV\n",
    "print(\"Best parameters found by GridSearchCV: \", movie_tree_clf.best_params_)\n",
    "\n",
    "# Predict on the test set\n",
    "y_pred = movie_tree_clf.predict(X_test)"
   ]
  },
  {
   "cell_type": "markdown",
   "id": "e3f012d3",
   "metadata": {},
   "source": [
    "### Model Performance"
   ]
  },
  {
   "cell_type": "code",
   "execution_count": 20,
   "id": "7b216710",
   "metadata": {},
   "outputs": [
    {
     "name": "stdout",
     "output_type": "stream",
     "text": [
      "Accuracy:  0.9147058823529411\n",
      "              precision    recall  f1-score   support\n",
      "\n",
      "        flop      0.851     0.842     0.847        95\n",
      "         hit      0.939     0.943     0.941       245\n",
      "\n",
      "    accuracy                          0.915       340\n",
      "   macro avg      0.895     0.892     0.894       340\n",
      "weighted avg      0.914     0.915     0.915       340\n",
      "\n"
     ]
    }
   ],
   "source": [
    "# Evaluate the model performance\n",
    "from sklearn import metrics\n",
    "\n",
    "print(\"Accuracy: \", accuracy_score(y_test, y_pred))\n",
    "\n",
    "print(metrics.classification_report(y_test, y_pred, digits=3))"
   ]
  },
  {
   "cell_type": "markdown",
   "id": "db43b92e",
   "metadata": {},
   "source": [
    "## Bagging with Decision Trees"
   ]
  },
  {
   "cell_type": "code",
   "execution_count": 5,
   "id": "c6e6a138",
   "metadata": {},
   "outputs": [
    {
     "name": "stdout",
     "output_type": "stream",
     "text": [
      "Training time: 11.75 seconds\n"
     ]
    }
   ],
   "source": [
    "bag_clf=BaggingClassifier(DecisionTreeClassifier(),\n",
    "                          n_estimators = 200, max_features = 0.5)\n",
    "\n",
    "start_time = time.time()\n",
    "bag_clf.fit(X_train,y_train)\n",
    "print(f'Training time: {(time.time()-start_time):.{2}f} seconds')\n",
    "\n",
    "y_pred=bag_clf.predict(X_test)\n"
   ]
  },
  {
   "cell_type": "markdown",
   "id": "066552ca",
   "metadata": {},
   "source": [
    "### Model Performance"
   ]
  },
  {
   "cell_type": "code",
   "execution_count": 6,
   "id": "f33408bf",
   "metadata": {},
   "outputs": [
    {
     "data": {
      "image/png": "[encoded data removed]",
      "text/plain": [
       "<Figure size 200x200 with 1 Axes>"
      ]
     },
     "metadata": {},
     "output_type": "display_data"
    }
   ],
   "source": [
    "plt.figure(figsize=(2,2))\n",
    "sns.heatmap(confusion_matrix(y_test, y_pred), annot=True, fmt='d', cmap='Reds', cbar=False)\n",
    "plt.title('Confusion Matrix')\n",
    "plt.xlabel('True label')\n",
    "plt.ylabel('Predicted label')\n",
    "plt.savefig('movies/bag_conf_mat.png')\n",
    "plt.show()"
   ]
  },
  {
   "cell_type": "code",
   "execution_count": 7,
   "id": "07d205a5",
   "metadata": {},
   "outputs": [
    {
     "name": "stdout",
     "output_type": "stream",
     "text": [
      "Accuracy:  0.9\n",
      "              precision    recall  f1-score   support\n",
      "\n",
      "        flop      0.843     0.789     0.815        95\n",
      "         hit      0.920     0.943     0.931       245\n",
      "\n",
      "    accuracy                          0.900       340\n",
      "   macro avg      0.882     0.866     0.873       340\n",
      "weighted avg      0.899     0.900     0.899       340\n",
      "\n"
     ]
    }
   ],
   "source": [
    "# Evaluate the model performance\n",
    "from sklearn import metrics\n",
    "\n",
    "print(\"Accuracy: \", accuracy_score(y_test, y_pred))\n",
    "\n",
    "print(metrics.classification_report(y_test, y_pred, digits=3))"
   ]
  },
  {
   "cell_type": "markdown",
   "id": "2e44f308",
   "metadata": {},
   "source": [
    "### Boosting with Decision Stumps"
   ]
  },
  {
   "cell_type": "code",
   "execution_count": 10,
   "id": "84defae8",
   "metadata": {},
   "outputs": [
    {
     "name": "stdout",
     "output_type": "stream",
     "text": [
      "Training time: 2.86 seconds\n"
     ]
    }
   ],
   "source": [
    "ada_clf=AdaBoostClassifier(\n",
    "DecisionTreeClassifier(max_depth=1),learning_rate=0.5)\n",
    "start_time = time.time()\n",
    "ada_clf.fit(X_train,y_train)\n",
    "print(f'Training time: {(time.time()-start_time):.{2}f} seconds')\n",
    "y_pred=ada_clf.predict(X_test)"
   ]
  },
  {
   "cell_type": "markdown",
   "id": "020554fa",
   "metadata": {},
   "source": [
    "### Model Performance"
   ]
  },
  {
   "cell_type": "code",
   "execution_count": 11,
   "id": "097aa4a1",
   "metadata": {},
   "outputs": [
    {
     "data": {
      "image/png": "[encoded data removed]",
      "text/plain": [
       "<Figure size 200x200 with 1 Axes>"
      ]
     },
     "metadata": {},
     "output_type": "display_data"
    }
   ],
   "source": [
    "plt.figure(figsize=(2,2))\n",
    "sns.heatmap(confusion_matrix(y_test, y_pred), annot=True, fmt='d', cmap='Reds', cbar=False)\n",
    "plt.title('Confusion Matrix')\n",
    "plt.xlabel('True label')\n",
    "plt.ylabel('Predicted label')\n",
    "plt.savefig('movies/boost_conf_mat.png')\n",
    "plt.show()"
   ]
  },
  {
   "cell_type": "code",
   "execution_count": 12,
   "id": "a1ba3b4f",
   "metadata": {},
   "outputs": [
    {
     "name": "stdout",
     "output_type": "stream",
     "text": [
      "Accuracy:  0.9147058823529411\n",
      "              precision    recall  f1-score   support\n",
      "\n",
      "        flop      0.851     0.842     0.847        95\n",
      "         hit      0.939     0.943     0.941       245\n",
      "\n",
      "    accuracy                          0.915       340\n",
      "   macro avg      0.895     0.892     0.894       340\n",
      "weighted avg      0.914     0.915     0.915       340\n",
      "\n"
     ]
    }
   ],
   "source": [
    "# Evaluate the model performance\n",
    "from sklearn import metrics\n",
    "\n",
    "print(\"Accuracy: \", accuracy_score(y_test, y_pred))\n",
    "\n",
    "print(metrics.classification_report(y_test, y_pred, digits=3))"
   ]
  },
  {
   "cell_type": "markdown",
   "id": "e7201b1a",
   "metadata": {},
   "source": [
    "## Comparision with Decision Tree Classifier and Naive Bayes"
   ]
  },
  {
   "cell_type": "markdown",
   "id": "332e5a6d",
   "metadata": {},
   "source": [
    "### Decision Tree Classifier\n",
    "\n",
    "\n",
    "|        | precision   | recall | f1-score  | \n",
    "| -------  | ----------- |--------|-----------|\n",
    "| flop       |   0.851    | 0.842 |    0.847   | \n",
    "| hit      | 0.939   |  0.943|     0.941|\n",
    "|accuracy  |             |        |0.915     |\n",
    "\n",
    "\n",
    "\n",
    "\n"
   ]
  },
  {
   "cell_type": "markdown",
   "id": "a8e25325",
   "metadata": {},
   "source": [
    "### Naive Bayes Classifier\n",
    "\n",
    "|        | precision   | recall | f1-score  | \n",
    "| -------  | ----------- |--------|-----------|\n",
    "| flop       |0.671    | 0.579   |  0.621  | \n",
    "| hit      | 0.845   |  0.890  |   0.867  |\n",
    "|accuracy  |             |        |0.803    |"
   ]
  },
  {
   "cell_type": "markdown",
   "id": "52aa0101",
   "metadata": {},
   "source": [
    "### Bagging Classifier\n",
    "\n",
    "|        | precision   | recall | f1-score  | \n",
    "| -------  | ----------- |--------|-----------|\n",
    "| flop       | 0.843     | 0.789    | 0.815  | \n",
    "| hit      |  0.920    | 0.943  |   0.931   |    \n",
    "|accuracy  |             |        |  0.900     |"
   ]
  },
  {
   "cell_type": "markdown",
   "id": "1b99122a",
   "metadata": {},
   "source": [
    "### Boosting Classifier\n",
    "\n",
    "|        | precision   | recall | f1-score  | \n",
    "| -------  | ----------- |--------|-----------|\n",
    "| flop       |0.851   |  0.842   |  0.847  | \n",
    "| hit      | 0.939  |   0.943   |  0.941  |   \n",
    "|accuracy  |             |        | 0.915    |"
   ]
  }
 ],
 "metadata": {
  "kernelspec": {
   "display_name": "Python 3 (ipykernel)",
   "language": "python",
   "name": "python3"
  },
  "language_info": {
   "codemirror_mode": {
    "name": "ipython",
    "version": 3
   },
   "file_extension": ".py",
   "mimetype": "text/x-python",
   "name": "python",
   "nbconvert_exporter": "python",
   "pygments_lexer": "ipython3",
   "version": "3.9.16"
  }
 },
 "nbformat": 4,
 "nbformat_minor": 5
}
